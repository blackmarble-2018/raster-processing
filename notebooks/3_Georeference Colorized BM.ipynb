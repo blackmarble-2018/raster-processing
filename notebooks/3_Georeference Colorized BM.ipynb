{
 "cells": [
  {
   "cell_type": "markdown",
   "metadata": {},
   "source": [
    "# Import libraries"
   ]
  },
  {
   "cell_type": "code",
   "execution_count": 1,
   "metadata": {
    "collapsed": true
   },
   "outputs": [],
   "source": [
    "import rasterio"
   ]
  },
  {
   "cell_type": "markdown",
   "metadata": {},
   "source": [
    "# Open colorized, smoothed BM tiff"
   ]
  },
  {
   "cell_type": "code",
   "execution_count": 2,
   "metadata": {
    "collapsed": true
   },
   "outputs": [],
   "source": [
    "COLORIZED_BM_PATH = \"input/BM_Smoothed_Colorized_8-bit_20180215/BM_smoothed_colorized_8-bit_20180215.tif\""
   ]
  },
  {
   "cell_type": "code",
   "execution_count": 3,
   "metadata": {},
   "outputs": [
    {
     "name": "stderr",
     "output_type": "stream",
     "text": [
      "/anaconda/lib/python2.7/site-packages/rasterio/__init__.py:193: UserWarning: Dataset has no geotransform set.  Default transform will be applied (Affine.identity())\n",
      "  s.start()\n"
     ]
    }
   ],
   "source": [
    "with rasterio.open(COLORIZED_BM_PATH) as src:\n",
    "    \n",
    "    # The profile contains the metadata\n",
    "    COLORIZED_BM_PATH_profile = src.profile\n",
    "    \n",
    "    # Read the first and only band into an array\n",
    "    COLORIZED_BM = src.read(1)"
   ]
  },
  {
   "cell_type": "code",
   "execution_count": 4,
   "metadata": {},
   "outputs": [
    {
     "data": {
      "text/plain": [
       "(17400, 43200)"
      ]
     },
     "execution_count": 4,
     "metadata": {},
     "output_type": "execute_result"
    }
   ],
   "source": [
    "COLORIZED_BM.shape"
   ]
  },
  {
   "cell_type": "markdown",
   "metadata": {},
   "source": [
    "# Get raster metadata from pre-colorized BM smoothed image"
   ]
  },
  {
   "cell_type": "code",
   "execution_count": 5,
   "metadata": {
    "collapsed": true
   },
   "outputs": [],
   "source": [
    "BM_PATH = 'input/Resampled_BlackMarble_GPW/BlackMarble_mosaic_resample_32BIT_normalize.tif'"
   ]
  },
  {
   "cell_type": "code",
   "execution_count": 6,
   "metadata": {},
   "outputs": [],
   "source": [
    "with rasterio.open(BM_PATH) as src:\n",
    "    \n",
    "    # The profile contains the metadata\n",
    "    BM_profile = src.profile"
   ]
  },
  {
   "cell_type": "code",
   "execution_count": 7,
   "metadata": {},
   "outputs": [
    {
     "data": {
      "text/plain": [
       "{'affine': Affine(0.00833333333333339, 0.0, -180.0,\n",
       "       0.0, -0.00833333333333339, 85.00000000000001),\n",
       " 'blockxsize': 128,\n",
       " 'blockysize': 128,\n",
       " 'count': 1,\n",
       " 'crs': CRS({}),\n",
       " 'driver': u'GTiff',\n",
       " 'dtype': 'float32',\n",
       " 'height': 17400,\n",
       " 'interleave': 'band',\n",
       " 'nodata': -3.402823e+38,\n",
       " 'tiled': True,\n",
       " 'transform': (-180.0,\n",
       "  0.00833333333333339,\n",
       "  0.0,\n",
       "  85.00000000000001,\n",
       "  0.0,\n",
       "  -0.00833333333333339),\n",
       " 'width': 43200}"
      ]
     },
     "execution_count": 7,
     "metadata": {},
     "output_type": "execute_result"
    }
   ],
   "source": [
    "BM_profile"
   ]
  },
  {
   "cell_type": "markdown",
   "metadata": {},
   "source": [
    "# Change metadata from float32 to int8"
   ]
  },
  {
   "cell_type": "code",
   "execution_count": 8,
   "metadata": {
    "collapsed": true
   },
   "outputs": [],
   "source": [
    "BM_profile.update(dtype=rasterio.uint8)"
   ]
  },
  {
   "cell_type": "markdown",
   "metadata": {},
   "source": [
    "# Delete `nodata` tag from metadata"
   ]
  },
  {
   "cell_type": "code",
   "execution_count": 9,
   "metadata": {
    "collapsed": true
   },
   "outputs": [],
   "source": [
    "del BM_profile['nodata']"
   ]
  },
  {
   "cell_type": "markdown",
   "metadata": {},
   "source": [
    "# Write colorized, smoothed BM tiff to geotiff using this metadata"
   ]
  },
  {
   "cell_type": "code",
   "execution_count": 10,
   "metadata": {},
   "outputs": [
    {
     "name": "stderr",
     "output_type": "stream",
     "text": [
      "/anaconda/lib/python2.7/site-packages/rasterio/__init__.py:160: FutureWarning: GDAL-style transforms are deprecated and will not be supported in Rasterio 1.0.\n",
      "  transform = guard_transform(transform)\n"
     ]
    }
   ],
   "source": [
    "with rasterio.open('output/BM_smoothed_colorized_8-bit_georeferenced_20180215.tif', 'w', **BM_profile) as dst:\n",
    "    dst.write(COLORIZED_BM, 1)"
   ]
  }
 ],
 "metadata": {
  "kernelspec": {
   "display_name": "venice_final",
   "language": "python",
   "name": "venice_final"
  },
  "language_info": {
   "codemirror_mode": {
    "name": "ipython",
    "version": 2
   },
   "file_extension": ".py",
   "mimetype": "text/x-python",
   "name": "python",
   "nbconvert_exporter": "python",
   "pygments_lexer": "ipython2",
   "version": "2.7.13"
  }
 },
 "nbformat": 4,
 "nbformat_minor": 2
}
