{
 "cells": [
  {
   "cell_type": "markdown",
   "metadata": {},
   "source": [
    "# Import libraries"
   ]
  },
  {
   "cell_type": "code",
   "execution_count": 1,
   "metadata": {
    "collapsed": true
   },
   "outputs": [],
   "source": [
    "import rasterio"
   ]
  },
  {
   "cell_type": "markdown",
   "metadata": {},
   "source": [
    "# Open colorized, smoothed GPW tiff"
   ]
  },
  {
   "cell_type": "code",
   "execution_count": 2,
   "metadata": {
    "collapsed": true
   },
   "outputs": [],
   "source": [
    "COLORIZED_GPW_PATH = \"input/GPW_smoothed_8-bit_20180215/GPW_smoothed_8-bit_20180215.tif\""
   ]
  },
  {
   "cell_type": "code",
   "execution_count": 3,
   "metadata": {},
   "outputs": [
    {
     "name": "stderr",
     "output_type": "stream",
     "text": [
      "/anaconda/lib/python2.7/site-packages/rasterio/__init__.py:193: UserWarning: Dataset has no geotransform set.  Default transform will be applied (Affine.identity())\n",
      "  s.start()\n"
     ]
    }
   ],
   "source": [
    "with rasterio.open(COLORIZED_GPW_PATH) as src:\n",
    "    \n",
    "    # The profile contains the metadata\n",
    "    COLORIZED_GPW_PATH_profile = src.profile\n",
    "    \n",
    "    # Read the first and only band into an array\n",
    "    COLORIZED_GPW = src.read(1)"
   ]
  },
  {
   "cell_type": "code",
   "execution_count": 4,
   "metadata": {},
   "outputs": [
    {
     "data": {
      "text/plain": [
       "(17400, 43200)"
      ]
     },
     "execution_count": 4,
     "metadata": {},
     "output_type": "execute_result"
    }
   ],
   "source": [
    "COLORIZED_GPW.shape"
   ]
  },
  {
   "cell_type": "markdown",
   "metadata": {},
   "source": [
    "# Get raster metadata from pre-colorized GPW smoothed image"
   ]
  },
  {
   "cell_type": "code",
   "execution_count": 5,
   "metadata": {
    "collapsed": true
   },
   "outputs": [],
   "source": [
    "GPW_PATH = 'input/Resampled_BlackMarble_GPW/gpw_v4_population_count_20151.tif'"
   ]
  },
  {
   "cell_type": "code",
   "execution_count": 7,
   "metadata": {
    "collapsed": true
   },
   "outputs": [],
   "source": [
    "with rasterio.open(GPW_PATH) as src:\n",
    "    \n",
    "    # The profile contains the metadata\n",
    "    GPW_profile = src.profile"
   ]
  },
  {
   "cell_type": "code",
   "execution_count": 8,
   "metadata": {},
   "outputs": [
    {
     "data": {
      "text/plain": [
       "{'affine': Affine(0.00833333333333339, 0.0, -180.0,\n",
       "       0.0, -0.00833333333333339, 85.0000000000092),\n",
       " 'blockxsize': 128,\n",
       " 'blockysize': 128,\n",
       " 'count': 1,\n",
       " 'crs': CRS({'init': u'epsg:4326'}),\n",
       " 'driver': u'GTiff',\n",
       " 'dtype': 'float32',\n",
       " 'height': 17400,\n",
       " 'interleave': 'band',\n",
       " 'nodata': -3.402823e+38,\n",
       " 'tiled': True,\n",
       " 'transform': (-180.0,\n",
       "  0.00833333333333339,\n",
       "  0.0,\n",
       "  85.0000000000092,\n",
       "  0.0,\n",
       "  -0.00833333333333339),\n",
       " 'width': 43200}"
      ]
     },
     "execution_count": 8,
     "metadata": {},
     "output_type": "execute_result"
    }
   ],
   "source": [
    "GPW_profile"
   ]
  },
  {
   "cell_type": "markdown",
   "metadata": {},
   "source": [
    "# Change metadata from float32 to int8"
   ]
  },
  {
   "cell_type": "code",
   "execution_count": 9,
   "metadata": {
    "collapsed": true
   },
   "outputs": [],
   "source": [
    "GPW_profile.update(dtype=rasterio.uint8)"
   ]
  },
  {
   "cell_type": "markdown",
   "metadata": {},
   "source": [
    "# Delete `nodata` tag from metadata"
   ]
  },
  {
   "cell_type": "code",
   "execution_count": 10,
   "metadata": {
    "collapsed": true
   },
   "outputs": [],
   "source": [
    "del GPW_profile['nodata']"
   ]
  },
  {
   "cell_type": "markdown",
   "metadata": {},
   "source": [
    "# Write colorized, smoothed GPW tiff to geotiff using this metadata"
   ]
  },
  {
   "cell_type": "code",
   "execution_count": 12,
   "metadata": {},
   "outputs": [],
   "source": [
    "with rasterio.open('output/GPW_smoothed_colorized_8-bit_georeferenced_20180215.tif', 'w', **GPW_profile) as dst:\n",
    "    dst.write(COLORIZED_GPW, 1)"
   ]
  }
 ],
 "metadata": {
  "kernelspec": {
   "display_name": "venice_final",
   "language": "python",
   "name": "venice_final"
  },
  "language_info": {
   "codemirror_mode": {
    "name": "ipython",
    "version": 2
   },
   "file_extension": ".py",
   "mimetype": "text/x-python",
   "name": "python",
   "nbconvert_exporter": "python",
   "pygments_lexer": "ipython2",
   "version": "2.7.13"
  }
 },
 "nbformat": 4,
 "nbformat_minor": 2
}
